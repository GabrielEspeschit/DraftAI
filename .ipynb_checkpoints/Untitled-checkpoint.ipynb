{
 "cells": [
  {
   "cell_type": "code",
   "execution_count": 40,
   "metadata": {
    "collapsed": true
   },
   "outputs": [
    {
     "name": "stdout",
     "output_type": "stream",
     "text": [
      "1970\n",
      "1971\n",
      "1972\n",
      "1973\n",
      "1974\n",
      "1975\n",
      "1976\n",
      "1977\n",
      "1978\n",
      "1979\n",
      "1980\n",
      "1981\n",
      "1982\n",
      "1983\n",
      "1984\n",
      "1985\n",
      "1986\n",
      "1987\n",
      "1988\n",
      "1989\n",
      "1990\n",
      "1991\n",
      "1992\n",
      "1993\n",
      "1994\n",
      "1995\n",
      "1996\n",
      "1997\n",
      "1998\n",
      "1999\n",
      "2000\n",
      "2001\n",
      "2002\n",
      "2003\n",
      "2004\n",
      "2005\n",
      "2006\n",
      "2007\n",
      "2008\n",
      "2009\n",
      "2010\n",
      "2011\n",
      "2012\n",
      "2013\n",
      "2014\n",
      "2015\n",
      "2016\n",
      "2017\n",
      "St. Louis Rams\n",
      "Washington Redskins\n",
      "Indianapolis Colts\n",
      "Carolina Panthers\n",
      "Minnesota Vikings\n",
      "Jacksonville Jaguars\n",
      "Tennessee Titans\n",
      "Kansas City Chiefs\n",
      "Oakland Raiders\n",
      "Green Bay Packers\n",
      "Dallas Cowboys\n",
      "Seattle Seahawks\n",
      "Miami Dolphins\n",
      "Baltimore Ravens\n",
      "Detroit Lions\n",
      "Buffalo Bills\n",
      "Pittsburgh Steelers\n",
      "Denver Broncos\n",
      "New York Jets\n",
      "New York Giants\n",
      "New England Patriots\n",
      "San Francisco 49ers\n",
      "Atlanta Falcons\n",
      "Cincinnati Bengals\n",
      "Philadelphia Eagles\n",
      "Chicago Bears\n",
      "Tampa Bay Buccaneers\n",
      "San Diego Chargers\n",
      "New Orleans Saints\n",
      "Arizona Cardinals\n",
      "Cleveland Browns\n"
     ]
    }
   ],
   "source": [
    "# Importando todos os times desde o início da NFL\n",
    "\n",
    "from sportsreference.nfl.teams import Teams\n",
    "\n",
    "nflYears = list(range(1970, 2018))\n",
    "\n",
    "nlfTeams = {k: v for v, k in enumerate(nflYears)}\n",
    "\n",
    "for year in nlfTeams:\n",
    "    print (year)\n",
    "    nlfTeams[year] = Teams(year)"
   ]
  },
  {
   "cell_type": "code",
   "execution_count": 43,
   "metadata": {
    "collapsed": true
   },
   "outputs": [
    {
     "name": "stdout",
     "output_type": "stream",
     "text": [
      "In the year 2010, the teams were\n",
      "New England Patriots - NWE\n",
      "San Diego Chargers - SDG\n",
      "Philadelphia Eagles - PHI\n",
      "Indianapolis Colts - CLT\n",
      "Atlanta Falcons - ATL\n",
      "Oakland Raiders - RAI\n",
      "Dallas Cowboys - DAL\n",
      "New York Giants - NYG\n",
      "Houston Texans - HTX\n",
      "Green Bay Packers - GNB\n",
      "New Orleans Saints - NOR\n",
      "Pittsburgh Steelers - PIT\n",
      "New York Jets - NYJ\n",
      "Kansas City Chiefs - KAN\n",
      "Detroit Lions - DET\n",
      "Baltimore Ravens - RAV\n",
      "Tennessee Titans - OTI\n",
      "Jacksonville Jaguars - JAX\n",
      "Denver Broncos - DEN\n",
      "Tampa Bay Buccaneers - TAM\n",
      "Chicago Bears - CHI\n",
      "Cincinnati Bengals - CIN\n",
      "Seattle Seahawks - SEA\n",
      "San Francisco 49ers - SFO\n",
      "Washington Redskins - WAS\n",
      "St. Louis Rams - RAM\n",
      "Arizona Cardinals - CRD\n",
      "Buffalo Bills - BUF\n",
      "Minnesota Vikings - MIN\n",
      "Miami Dolphins - MIA\n",
      "Cleveland Browns - CLE\n",
      "Carolina Panthers - CAR\n"
     ]
    }
   ],
   "source": [
    "year = 2010\n",
    "print(f'In the year {year}, the teams were')\n",
    "for team in nlfTeams[year]:\n",
    "    print(f'{team.name} - {team.abbreviation}')"
   ]
  },
  {
   "cell_type": "code",
   "execution_count": null,
   "metadata": {},
   "outputs": [],
   "source": []
  }
 ],
 "metadata": {
  "kernelspec": {
   "display_name": "Python 3",
   "language": "python",
   "name": "python3"
  },
  "language_info": {
   "codemirror_mode": {
    "name": "ipython",
    "version": 3
   },
   "file_extension": ".py",
   "mimetype": "text/x-python",
   "name": "python",
   "nbconvert_exporter": "python",
   "pygments_lexer": "ipython3",
   "version": "3.7.3"
  }
 },
 "nbformat": 4,
 "nbformat_minor": 2
}
