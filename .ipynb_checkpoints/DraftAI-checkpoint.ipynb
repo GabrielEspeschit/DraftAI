{
 "cells": [
  {
   "cell_type": "code",
   "execution_count": 5,
   "metadata": {},
   "outputs": [
    {
     "name": "stdout",
     "output_type": "stream",
     "text": [
      "1970 1971 1972 1973 1974 1975 1976 1977 1978 1979 1980 1981 1982 1983 1984 1985 1986 1987 1988 1989 1990 1991 1992 1993 1994 1995 1996 1997 1998 1999 2000 2001 2002 2003 2004 2005 2006 2007 2008 2009 2010 2011 2012 2013 2014 2015 2016 2017 2018 "
     ]
    }
   ],
   "source": [
    " # Importando todos os times desde o início da NFL\n",
    "# Docs para a biblioteca em https://sportsreference.readthedocs.io/en/latest/\n",
    "\n",
    "from sportsreference.nfl.teams import Teams\n",
    "\n",
    "startingYear = 1970\n",
    "finishingYear = 2019\n",
    "nflYears = list(range(startingYear, finishingYear))\n",
    "\n",
    "nlfTeams = {k: v for v, k in enumerate(nflYears)}\n",
    "\n",
    "for year in nlfTeams:\n",
    "    print(f'{year} ', end=\"\")\n",
    "    nlfTeams[year] = Teams(year)"
   ]
  },
  {
   "cell_type": "code",
   "execution_count": 43,
   "metadata": {
    "collapsed": true
   },
   "outputs": [
    {
     "name": "stdout",
     "output_type": "stream",
     "text": [
      "In the year 2010, the teams were\n",
      "New England Patriots - NWE\n",
      "San Diego Chargers - SDG\n",
      "Philadelphia Eagles - PHI\n",
      "Indianapolis Colts - CLT\n",
      "Atlanta Falcons - ATL\n",
      "Oakland Raiders - RAI\n",
      "Dallas Cowboys - DAL\n",
      "New York Giants - NYG\n",
      "Houston Texans - HTX\n",
      "Green Bay Packers - GNB\n",
      "New Orleans Saints - NOR\n",
      "Pittsburgh Steelers - PIT\n",
      "New York Jets - NYJ\n",
      "Kansas City Chiefs - KAN\n",
      "Detroit Lions - DET\n",
      "Baltimore Ravens - RAV\n",
      "Tennessee Titans - OTI\n",
      "Jacksonville Jaguars - JAX\n",
      "Denver Broncos - DEN\n",
      "Tampa Bay Buccaneers - TAM\n",
      "Chicago Bears - CHI\n",
      "Cincinnati Bengals - CIN\n",
      "Seattle Seahawks - SEA\n",
      "San Francisco 49ers - SFO\n",
      "Washington Redskins - WAS\n",
      "St. Louis Rams - RAM\n",
      "Arizona Cardinals - CRD\n",
      "Buffalo Bills - BUF\n",
      "Minnesota Vikings - MIN\n",
      "Miami Dolphins - MIA\n",
      "Cleveland Browns - CLE\n",
      "Carolina Panthers - CAR\n"
     ]
    }
   ],
   "source": [
    "year = 2010\n",
    "print(f'In the year {year}, the teams were')\n",
    "for team in nlfTeams[year]:\n",
    "    print(f'{team.name} - {team.abbreviation}')"
   ]
  },
  {
   "cell_type": "code",
   "execution_count": null,
   "metadata": {},
   "outputs": [],
   "source": []
  }
 ],
 "metadata": {
  "kernelspec": {
   "display_name": "Python 3",
   "language": "python",
   "name": "python3"
  },
  "language_info": {
   "codemirror_mode": {
    "name": "ipython",
    "version": 3
   },
   "file_extension": ".py",
   "mimetype": "text/x-python",
   "name": "python",
   "nbconvert_exporter": "python",
   "pygments_lexer": "ipython3",
   "version": "3.7.3"
  }
 },
 "nbformat": 4,
 "nbformat_minor": 2
}
